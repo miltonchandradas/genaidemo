{
 "cells": [
  {
   "cell_type": "markdown",
   "metadata": {},
   "source": [
    "# Gen AI Demo\n",
    "\n",
    "__Import OpenAI key__"
   ]
  },
  {
   "cell_type": "code",
   "execution_count": null,
   "metadata": {},
   "outputs": [],
   "source": [
    "from secret_key import openai_api_key, google_api_key"
   ]
  },
  {
   "cell_type": "markdown",
   "metadata": {},
   "source": [
    "__Import OpenAI, ChatOpenAI, PromptTemplate, ChatPromptTemplate__"
   ]
  },
  {
   "cell_type": "code",
   "execution_count": null,
   "metadata": {},
   "outputs": [],
   "source": [
    "\n",
    "%pip install -qU langchain-core\n",
    "%pip install -qU langchain-community\n",
    "%pip install -qU langchain-openai\n",
    "%pip install -qU langchain-google-genai\n",
    "%pip install -qU langchain\n",
    "\n",
    "%pip install -qU hdbcli\n",
    "%pip install -qU google-search-results\n",
    "%pip install -qU numexpr\n",
    "%pip install -qU pypdf"
   ]
  },
  {
   "cell_type": "code",
   "execution_count": null,
   "metadata": {},
   "outputs": [],
   "source": [
    "from langchain_openai import OpenAI, ChatOpenAI\n",
    "from langchain_core.prompts import PromptTemplate, ChatPromptTemplate, HumanMessagePromptTemplate, SystemMessagePromptTemplate\n",
    "from langchain_core.messages import HumanMessage, SystemMessage, AIMessage\n",
    "\n",
    "from langchain_google_genai import ChatGoogleGenerativeAI"
   ]
  },
  {
   "cell_type": "markdown",
   "metadata": {},
   "source": [
    "__Use LangChain OpenAI, LangChain ChatOpenAI__"
   ]
  },
  {
   "cell_type": "code",
   "execution_count": null,
   "metadata": {},
   "outputs": [],
   "source": [
    "llm = OpenAI(model=\"gpt-3.5-turbo-instruct\", openai_api_key=openai_api_key, temperature=0.7)\n",
    "\n",
    "llm.invoke(\"How far is the moon away from earth in miles ?\")"
   ]
  },
  {
   "cell_type": "code",
   "execution_count": null,
   "metadata": {},
   "outputs": [],
   "source": [
    "chat_llm = ChatOpenAI(model=\"gpt-3.5-turbo\", openai_api_key=openai_api_key, temperature=0.7)\n",
    "messages = [\n",
    "        SystemMessage(content=\"You are an expert in Python programming language\"),\n",
    "        HumanMessage(content=\"Tell me about scikit learn in 2 sentences\")\n",
    "]\n",
    "                                     \n",
    "chat_llm.invoke(messages)"
   ]
  },
  {
   "cell_type": "code",
   "execution_count": null,
   "metadata": {},
   "outputs": [],
   "source": [
    "messages = [\n",
    "        SystemMessage(content=\"You are an expert in Python programming language\"),\n",
    "        HumanMessage(content=\"Tell me about scikit learn in 2 sentences\"),\n",
    "        AIMessage(content=\"Scikit-learn is a popular machine learning library in Python that provides a wide range of tools for building and deploying machine learning models. It includes various algorithms for classification, regression, clustering, dimensionality reduction, and more, making it a versatile and powerful tool for data scientists and machine learning practitioners.\"),\n",
    "        HumanMessage(content=\"Is there a Scikit-learn library for JavaScript ?\")\n",
    "]\n",
    "                                     \n",
    "chat_llm.invoke(messages)"
   ]
  },
  {
   "cell_type": "code",
   "execution_count": null,
   "metadata": {},
   "outputs": [],
   "source": [
    "google_chat_llm = ChatGoogleGenerativeAI(model=\"gemini-1.5-flash\", google_api_key=google_api_key, temperature=0.7)\n",
    "messages = [\n",
    "        SystemMessage(content=\"You are an expert in Python programming language\"),\n",
    "        HumanMessage(content=\"Tell me about scikit learn in 2 sentences\")\n",
    "]\n",
    "\n",
    "google_chat_llm.invoke(messages)"
   ]
  },
  {
   "cell_type": "markdown",
   "metadata": {},
   "source": [
    "__ChatPromptTemplate with dynamic values__"
   ]
  },
  {
   "cell_type": "code",
   "execution_count": null,
   "metadata": {},
   "outputs": [],
   "source": [
    "chat_prompt_template = ChatPromptTemplate(\n",
    "    messages = [\n",
    "        SystemMessagePromptTemplate.from_template(\"You are an expert in {main_topic}\"),\n",
    "        HumanMessagePromptTemplate.from_template(\"Tell me about {sub_topic} in 2 sentences\")\n",
    "])\n",
    "\n",
    "# chat_prompt_template.invoke({\"main_topic\": \"Node.js\", \"sub_topic\": \"closures\"})\n",
    "\n",
    "# prompt = chat_prompt_template.invoke({\"main_topic\": \"Node.js\", \"sub_topic\": \"closures\"})\n",
    "# chat_llm.invoke(prompt)\n",
    "                                     \n",
    "chain = chat_prompt_template | chat_llm\n",
    "chain.invoke({\"main_topic\": \"Node.js\", \"sub_topic\": \"closures\"})"
   ]
  },
  {
   "cell_type": "code",
   "execution_count": null,
   "metadata": {},
   "outputs": [],
   "source": [
    "chain.invoke({\"main_topic\": \"SAP Integration Suite\", \"sub_topic\": \"OData Adapter\"})"
   ]
  },
  {
   "cell_type": "markdown",
   "metadata": {},
   "source": [
    "__Output Parsers - Format the output for APIs__"
   ]
  },
  {
   "cell_type": "code",
   "execution_count": null,
   "metadata": {},
   "outputs": [],
   "source": [
    "from langchain_core.output_parsers import StrOutputParser\n",
    "\n",
    "output_parser = StrOutputParser()\n",
    "\n",
    "chain = chat_prompt_template | chat_llm | output_parser\n",
    "chain.invoke({\"main_topic\": \"United States\", \"sub_topic\": \"Atlanta\"})\n",
    "\n",
    "# result = chain.invoke({\"main_topic\": \"Node.js\", \"sub_topic\": \"closures\"})\n",
    "# print(type(result))"
   ]
  },
  {
   "cell_type": "code",
   "execution_count": null,
   "metadata": {},
   "outputs": [],
   "source": [
    "from langchain_core.output_parsers import CommaSeparatedListOutputParser\n",
    "\n",
    "output_parser = CommaSeparatedListOutputParser()\n",
    "\n",
    "chat_prompt_template = ChatPromptTemplate(\n",
    "    messages = [\n",
    "        SystemMessagePromptTemplate.from_template(\"You have extensive knowledge about all the countries in the world\"),\n",
    "        HumanMessagePromptTemplate.from_template(\"Name 5 big cities in the following country: {country}\")\n",
    "])\n",
    "                                     \n",
    "\n",
    "chain = chat_prompt_template | chat_llm | output_parser\n",
    "# chain.invoke({\"country\": \"Sweden\"})\n",
    "\n",
    "result = chain.invoke({\"country\": \"Sweden\"})\n",
    "print(type(result))"
   ]
  },
  {
   "cell_type": "code",
   "execution_count": null,
   "metadata": {},
   "outputs": [],
   "source": [
    "from langchain_core.output_parsers import JsonOutputParser\n",
    "from langchain_core.pydantic_v1 import BaseModel, Field\n",
    "\n",
    "class Employee(BaseModel):\n",
    "    name: str = Field(description=\"Name of person\")\n",
    "    company: str = Field(description=\"Name of company\")\n",
    "    experience: int = Field(description=\"Number of years with company\")\n",
    "\n",
    "output_parser = JsonOutputParser(pydantic_object=Employee)\n",
    "\n",
    "chat_prompt_template = ChatPromptTemplate(\n",
    "    messages = [\n",
    "        SystemMessagePromptTemplate.from_template(\"Create a fictitious employee with the following name.  \\nFormatting Instructions: {format_instructions}\"),\n",
    "        HumanMessagePromptTemplate.from_template(\"Employee name: {name}\")\n",
    "])\n",
    "                                     \n",
    "\n",
    "chain = chat_prompt_template | chat_llm | output_parser\n",
    "chain.invoke({\n",
    "    \"name\": \"Milton\",\n",
    "    \"format_instructions\": output_parser.get_format_instructions()\n",
    "    })\n",
    "\n",
    "# result = chain.invoke({\n",
    "#     \"name\": \"Milton\",\n",
    "#     \"format_instructions\": output_parser.get_format_instructions()\n",
    "#     })\n",
    "# print(type(result))"
   ]
  },
  {
   "cell_type": "markdown",
   "metadata": {},
   "source": [
    "__Summarization Techniques: Stuff Chain, Map Reduce, Refine__"
   ]
  },
  {
   "cell_type": "code",
   "execution_count": null,
   "metadata": {},
   "outputs": [],
   "source": [
    "from langchain.text_splitter import RecursiveCharacterTextSplitter\n",
    "from langchain.chains.summarize import load_summarize_chain\n",
    "from langchain.chains import create_retrieval_chain\n",
    "\n",
    "from langchain.document_loaders import TextLoader\n",
    "my_character = TextLoader('my_character.txt').load()"
   ]
  },
  {
   "cell_type": "code",
   "execution_count": null,
   "metadata": {},
   "outputs": [],
   "source": [
    "summarize_chain = load_summarize_chain(llm=chat_llm, chain_type=\"stuff\")\n",
    "summary = summarize_chain.invoke(my_character)\n",
    "\n",
    "print(summary[\"output_text\"])"
   ]
  },
  {
   "cell_type": "code",
   "execution_count": null,
   "metadata": {},
   "outputs": [],
   "source": [
    "map_template_string = \"\"\"\n",
    "Write a concise summary of the following text delimited by 3 backticks.\n",
    "\n",
    "text: ```{text}```\n",
    "       \n",
    "SUMMARY:\n",
    "\"\"\"\n",
    "\n",
    "map_prompt_template = PromptTemplate(template=map_template_string, input_variables=[\"text\"])\n",
    "\n",
    "\n",
    "combine_template_string = \"\"\"\n",
    "Provide a final concise summary of the following text delimited by 3 backticks.\n",
    "       \n",
    "text: ```{text}```\n",
    "\"\"\"\n",
    "combine_prompt_template = PromptTemplate(template=combine_template_string, input_variables=['text'])\n",
    "\n",
    "summarize_chain = load_summarize_chain(llm=chat_llm, chain_type=\"map_reduce\", map_prompt=map_prompt_template, combine_prompt=combine_prompt_template)\n",
    "\n",
    "text_splitter = RecursiveCharacterTextSplitter(chunk_size=2000, chunk_overlap=0)\n",
    "\n",
    "documents = text_splitter.split_documents(my_character)\n",
    "\n",
    "# print(type(documents[0]))\n",
    "\n",
    "summary = summarize_chain.invoke(documents)\n",
    "print(summary[\"output_text\"])\n"
   ]
  },
  {
   "cell_type": "code",
   "execution_count": null,
   "metadata": {},
   "outputs": [],
   "source": [
    "# refine summarization - using the default prompt\n",
    "\n",
    "summarize_chain = load_summarize_chain(llm=chat_llm, chain_type=\"refine\")\n",
    "\n",
    "text_splitter = RecursiveCharacterTextSplitter(chunk_size=2000, chunk_overlap=0)\n",
    "\n",
    "documents = text_splitter.split_documents(my_character)\n",
    "\n",
    "# print(type(documents[0]))\n",
    "\n",
    "summary = summarize_chain.invoke(documents)\n",
    "print(summary[\"output_text\"])\n"
   ]
  },
  {
   "cell_type": "markdown",
   "metadata": {},
   "source": [
    "__Retrieval Augmented Generation (RAG)__"
   ]
  },
  {
   "cell_type": "code",
   "execution_count": null,
   "metadata": {},
   "outputs": [],
   "source": [
    "import os\n",
    "import json\n",
    "\n",
    "from hdbcli import dbapi\n",
    "from langchain_community.vectorstores.hanavector import HanaDB\n",
    "from langchain.chains.combine_documents import create_stuff_documents_chain\n",
    "\n",
    "with open(\"hana_keys.json\", \"r\") as key_file:\n",
    "    svcKey = json.load(key_file)\n",
    "    \n",
    "    \n",
    "env_vars = {\n",
    "    \"HANA_USER\": svcKey[\"hana_user\"],\n",
    "    \"HANA_PASSWORD\": svcKey[\"hana_password\"],\n",
    "    \"HANA_HOST\": svcKey[\"hana_host\"]\n",
    "}\n",
    "\n",
    "os.environ.update(env_vars)\n",
    "\n",
    "HANA_USER = os.getenv('HANA_USER')\n",
    "HANA_PASSWORD = os.getenv('HANA_PASSWORD')\n",
    "HANA_HOST = os.getenv('HANA_HOST')\n",
    "connection = dbapi.connect(\n",
    "    address=HANA_HOST,\n",
    "    port=443,\n",
    "    user=HANA_USER,\n",
    "    password=HANA_PASSWORD,\n",
    "    encrypt='true',\n",
    "    autocommit=True\n",
    ")"
   ]
  },
  {
   "cell_type": "code",
   "execution_count": null,
   "metadata": {},
   "outputs": [],
   "source": [
    "from langchain_openai import OpenAIEmbeddings\n",
    "\n",
    "embedding_model = OpenAIEmbeddings(model=\"text-embedding-ada-002\", openai_api_key=openai_api_key)\n",
    "db = HanaDB(embedding=embedding_model, connection=connection, table_name=\"GENAI_RAG_DEMO\")\n"
   ]
  },
  {
   "cell_type": "code",
   "execution_count": null,
   "metadata": {},
   "outputs": [],
   "source": [
    "text_splitter = RecursiveCharacterTextSplitter(chunk_size=2000, chunk_overlap=0)\n",
    "split_texts = text_splitter.split_text(my_character[0].page_content)\n",
    "\n",
    "metadata = [\n",
    "        {\n",
    "            \"source\": \"My Character\",\n",
    "            \"chunk_index\": i\n",
    "        }\n",
    "        for i in range(len(split_texts))\n",
    "    ]\n",
    "\n",
    "db.delete(filter={\"source\": \"My Character\"})\n",
    "db.add_texts(split_texts, metadatas=metadata)"
   ]
  },
  {
   "cell_type": "code",
   "execution_count": null,
   "metadata": {},
   "outputs": [],
   "source": [
    "question_prompt_template = \"\"\"\n",
    "Use only the provided context below delimited by 3 backticks to answer the question at the end delimited by 3 backticks.\n",
    "If you don't know the answer, please reply that the question is not relevant to the character\n",
    "\n",
    "context: ```{context}```\n",
    "\n",
    "question: ```{input}``` \n",
    "\"\"\"\n",
    "\n",
    "question_prompt = ChatPromptTemplate.from_template(template=question_prompt_template)\n",
    "question_answer_chain = create_stuff_documents_chain(chat_llm, question_prompt)\n",
    "\n",
    "retriever = db.as_retriever(filter={\"source\": \"My Character\"})\n",
    "retrieval_chain = create_retrieval_chain(retriever, question_answer_chain)\n",
    "\n",
    "result = retrieval_chain.invoke({\"input\": \"What was her job ?\"})\n",
    "print(result[\"answer\"])\n"
   ]
  },
  {
   "cell_type": "code",
   "execution_count": null,
   "metadata": {},
   "outputs": [],
   "source": [
    "from langchain_community.document_loaders import PyPDFLoader\n",
    "\n",
    "loader = PyPDFLoader(\"my_man_jeeves.pdf\")\n",
    "documents = loader.load()\n",
    "\n",
    "# len(documents)\n",
    "# documents[123]"
   ]
  },
  {
   "cell_type": "code",
   "execution_count": null,
   "metadata": {},
   "outputs": [],
   "source": [
    "metadata = [\n",
    "        {\n",
    "            \"source\": \"My Man Jeeves\",\n",
    "            \"chunk_index\": i\n",
    "        }\n",
    "        for i in range(len(documents))\n",
    "    ]\n",
    "\n",
    "\n",
    "db.delete(filter={\"source\": \"my_man_jeeves.pdf\"})\n",
    "db.add_documents(documents)"
   ]
  },
  {
   "cell_type": "code",
   "execution_count": null,
   "metadata": {},
   "outputs": [],
   "source": [
    "prompt = \"What is Corky's profession ?\"\n",
    "docs = db.similarity_search(prompt, filter={\"source\": \"my_man_jeeves.pdf\"}, k=5)\n",
    "\n",
    "for doc in docs:\n",
    "    print(\"-\" * 80)\n",
    "    print(doc.page_content)"
   ]
  },
  {
   "cell_type": "code",
   "execution_count": null,
   "metadata": {},
   "outputs": [],
   "source": [
    "question_prompt_template = \"\"\"\n",
    "Use only the provided context below delimited by 3 backticks to answer the question at the end delimited by 3 backticks.\n",
    "If you don't know the answer, please reply that the question is not relevant to the character\n",
    "\n",
    "context: ```{context}```\n",
    "\n",
    "question: ```{input}``` \n",
    "\"\"\"\n",
    "\n",
    "question_prompt = ChatPromptTemplate.from_template(template=question_prompt_template)\n",
    "question_answer_chain = create_stuff_documents_chain(chat_llm, question_prompt)\n",
    "\n",
    "retriever = db.as_retriever(filter={\"source\": \"my_man_jeeves.pdf\"})\n",
    "retrieval_chain = create_retrieval_chain(retriever, question_answer_chain)\n",
    "\n",
    "result = retrieval_chain.invoke({\"input\": \"What is Corky's profession ?\"})\n",
    "print(result[\"answer\"])\n"
   ]
  },
  {
   "cell_type": "markdown",
   "metadata": {},
   "source": [
    "__Agents__"
   ]
  },
  {
   "cell_type": "code",
   "execution_count": null,
   "metadata": {},
   "outputs": [],
   "source": [
    "from langchain.agents import load_tools\n",
    "from langchain.agents import initialize_agent\n",
    "\n",
    "from secret_key import serpapi_api_key\n"
   ]
  },
  {
   "cell_type": "code",
   "execution_count": null,
   "metadata": {},
   "outputs": [],
   "source": [
    "toolkit = load_tools([\"serpapi\", \"llm-math\"], llm=chat_llm, serpapi_api_key=serpapi_api_key)"
   ]
  },
  {
   "cell_type": "code",
   "execution_count": null,
   "metadata": {},
   "outputs": [],
   "source": [
    "agent = initialize_agent(toolkit, llm, agent=\"zero-shot-react-description\", verbose=True, return_intermediate_steps=True)\n",
    "response = agent({\"input\":\"Who is the current President of Japan and what is his age ?\"})\n"
   ]
  },
  {
   "cell_type": "code",
   "execution_count": null,
   "metadata": {},
   "outputs": [],
   "source": [
    "response = agent({\"input\":\"What is the square of the age difference between current President of Japan and Shahrukh Khan ?\"})"
   ]
  }
 ],
 "metadata": {
  "kernelspec": {
   "display_name": "myenv",
   "language": "python",
   "name": "python3"
  },
  "language_info": {
   "codemirror_mode": {
    "name": "ipython",
    "version": 3
   },
   "file_extension": ".py",
   "mimetype": "text/x-python",
   "name": "python",
   "nbconvert_exporter": "python",
   "pygments_lexer": "ipython3",
   "version": "3.12.1"
  }
 },
 "nbformat": 4,
 "nbformat_minor": 2
}
