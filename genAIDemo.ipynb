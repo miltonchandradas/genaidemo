{
 "cells": [
  {
   "cell_type": "markdown",
   "metadata": {},
   "source": [
    "# Gen AI Demo\n",
    "\n",
    "__Import OpenAI key__"
   ]
  },
  {
   "cell_type": "code",
   "execution_count": 7,
   "metadata": {},
   "outputs": [],
   "source": [
    "from secret_key import openai_api_key"
   ]
  },
  {
   "cell_type": "markdown",
   "metadata": {},
   "source": [
    "__Import OpenAI, ChatOpenAI, PromptTemplate, ChatPromptTemplate__"
   ]
  },
  {
   "cell_type": "code",
   "execution_count": 4,
   "metadata": {},
   "outputs": [
    {
     "name": "stdout",
     "output_type": "stream",
     "text": [
      "Note: you may need to restart the kernel to use updated packages.\n"
     ]
    },
    {
     "name": "stderr",
     "output_type": "stream",
     "text": [
      "\n",
      "[notice] A new release of pip is available: 23.2.1 -> 24.2\n",
      "[notice] To update, run: python.exe -m pip install --upgrade pip\n"
     ]
    },
    {
     "name": "stdout",
     "output_type": "stream",
     "text": [
      "Note: you may need to restart the kernel to use updated packages.\n"
     ]
    },
    {
     "name": "stderr",
     "output_type": "stream",
     "text": [
      "\n",
      "[notice] A new release of pip is available: 23.2.1 -> 24.2\n",
      "[notice] To update, run: python.exe -m pip install --upgrade pip\n"
     ]
    }
   ],
   "source": [
    "%pip install -qU langchain-openai\n",
    "%pip install -qU langchain-core"
   ]
  },
  {
   "cell_type": "code",
   "execution_count": 15,
   "metadata": {},
   "outputs": [],
   "source": [
    "from langchain_openai import OpenAI, ChatOpenAI\n",
    "from langchain_core.prompts import PromptTemplate, ChatPromptTemplate, HumanMessagePromptTemplate, SystemMessagePromptTemplate\n",
    "from langchain_core.messages import HumanMessage, SystemMessage"
   ]
  },
  {
   "cell_type": "markdown",
   "metadata": {},
   "source": [
    "__Use LangChain OpenAI, LangChain ChatOpenAI__"
   ]
  },
  {
   "cell_type": "code",
   "execution_count": 28,
   "metadata": {},
   "outputs": [
    {
     "data": {
      "text/plain": [
       "'\\n\\nThe average distance between the moon and Earth is approximately 238,855 miles.'"
      ]
     },
     "execution_count": 28,
     "metadata": {},
     "output_type": "execute_result"
    }
   ],
   "source": [
    "llm = OpenAI(model=\"gpt-3.5-turbo-instruct\", openai_api_key=openai_api_key, temperature=0.7)\n",
    "llm.invoke(\"How far is the moon away from earth in miles ?\")"
   ]
  },
  {
   "cell_type": "code",
   "execution_count": 31,
   "metadata": {},
   "outputs": [
    {
     "data": {
      "text/plain": [
       "AIMessage(content='Scikit-learn is a popular machine learning library in Python that provides simple and efficient tools for data mining and data analysis. It includes various algorithms for classification, regression, clustering, dimensionality reduction, and more.', response_metadata={'token_usage': {'completion_tokens': 43, 'prompt_tokens': 29, 'total_tokens': 72}, 'model_name': 'gpt-3.5-turbo-0125', 'system_fingerprint': None, 'finish_reason': 'stop', 'logprobs': None}, id='run-665aedf9-4150-444d-b291-d45d1f7a3783-0', usage_metadata={'input_tokens': 29, 'output_tokens': 43, 'total_tokens': 72})"
      ]
     },
     "execution_count": 31,
     "metadata": {},
     "output_type": "execute_result"
    }
   ],
   "source": [
    "chat_llm = ChatOpenAI(model=\"gpt-3.5-turbo\", openai_api_key=openai_api_key, temperature=0.7)\n",
    "chat_prompt_template = ChatPromptTemplate(\n",
    "    messages = [\n",
    "        SystemMessagePromptTemplate.from_template(\"You are an expert in Python programming language\"),\n",
    "        HumanMessagePromptTemplate.from_template(\"Tell me about scikit learn in 2 sentences\")\n",
    "])\n",
    "                                     \n",
    "chain = chat_prompt_template | chat_llm\n",
    "\n",
    "chain.invoke({})"
   ]
  },
  {
   "cell_type": "markdown",
   "metadata": {},
   "source": [
    "__ChatPromptTemplate with dynamic values__"
   ]
  },
  {
   "cell_type": "code",
   "execution_count": 32,
   "metadata": {},
   "outputs": [
    {
     "data": {
      "text/plain": [
       "AIMessage(content='In Node.js, closures are functions that remember the variables from the outer scope even after the outer function has finished executing. This allows the inner function to access and manipulate those variables, creating a private scope within the function.', response_metadata={'token_usage': {'completion_tokens': 44, 'prompt_tokens': 26, 'total_tokens': 70}, 'model_name': 'gpt-3.5-turbo-0125', 'system_fingerprint': None, 'finish_reason': 'stop', 'logprobs': None}, id='run-bdd581f4-f805-47eb-a957-df1dd2534038-0', usage_metadata={'input_tokens': 26, 'output_tokens': 44, 'total_tokens': 70})"
      ]
     },
     "execution_count": 32,
     "metadata": {},
     "output_type": "execute_result"
    }
   ],
   "source": [
    "chat_prompt_template = ChatPromptTemplate(\n",
    "    messages = [\n",
    "        SystemMessagePromptTemplate.from_template(\"You are an expert in {main_topic}\"),\n",
    "        HumanMessagePromptTemplate.from_template(\"Tell me about {sub_topic} in 2 sentences\")\n",
    "])\n",
    "                                     \n",
    "chain = chat_prompt_template | chat_llm\n",
    "\n",
    "chain.invoke({\"main_topic\": \"Node.js\", \"sub_topic\": \"closures\"})"
   ]
  },
  {
   "cell_type": "code",
   "execution_count": 33,
   "metadata": {},
   "outputs": [
    {
     "data": {
      "text/plain": [
       "AIMessage(content='The OData Adapter in SAP Integration Suite allows you to easily connect and integrate OData services with other systems and applications. It provides capabilities to consume and expose OData services, enabling seamless data exchange and interoperability within your integration landscape.', response_metadata={'token_usage': {'completion_tokens': 47, 'prompt_tokens': 29, 'total_tokens': 76}, 'model_name': 'gpt-3.5-turbo-0125', 'system_fingerprint': None, 'finish_reason': 'stop', 'logprobs': None}, id='run-61ba33c0-5dc2-4a09-b903-8e7dd3778edd-0', usage_metadata={'input_tokens': 29, 'output_tokens': 47, 'total_tokens': 76})"
      ]
     },
     "execution_count": 33,
     "metadata": {},
     "output_type": "execute_result"
    }
   ],
   "source": [
    "chain.invoke({\"main_topic\": \"SAP Integration Suite\", \"sub_topic\": \"OData Adapter\"})"
   ]
  },
  {
   "cell_type": "markdown",
   "metadata": {},
   "source": [
    "__Output Parsers - Format the output for APIs__"
   ]
  },
  {
   "cell_type": "code",
   "execution_count": 35,
   "metadata": {},
   "outputs": [
    {
     "data": {
      "text/plain": [
       "'Closures in JavaScript allow functions to retain access to variables from their containing scope even after the parent function has finished executing. This enables functions to \"remember\" and manipulate those variables when called later on.'"
      ]
     },
     "execution_count": 35,
     "metadata": {},
     "output_type": "execute_result"
    }
   ],
   "source": [
    "from langchain_core.output_parsers import StrOutputParser\n",
    "\n",
    "output_parser = StrOutputParser()\n",
    "\n",
    "chain = chat_prompt_template | chat_llm | output_parser\n",
    "chain.invoke({\"main_topic\": \"Node.js\", \"sub_topic\": \"closures\"})"
   ]
  },
  {
   "cell_type": "code",
   "execution_count": 37,
   "metadata": {},
   "outputs": [
    {
     "name": "stdout",
     "output_type": "stream",
     "text": [
      "<class 'list'>\n"
     ]
    }
   ],
   "source": [
    "from langchain_core.output_parsers import CommaSeparatedListOutputParser\n",
    "\n",
    "output_parser = CommaSeparatedListOutputParser()\n",
    "\n",
    "chat_prompt_template = ChatPromptTemplate(\n",
    "    messages = [\n",
    "        SystemMessagePromptTemplate.from_template(\"You are an English teacher\"),\n",
    "        HumanMessagePromptTemplate.from_template(\"Provide 5 syonyms for the following word {word}\")\n",
    "])\n",
    "                                     \n",
    "\n",
    "chain = chat_prompt_template | chat_llm | output_parser\n",
    "chain.invoke({\"word\": \"determination\"})\n",
    "\n",
    "# print(type(chain.invoke({\"word\": \"determination\"})))"
   ]
  },
  {
   "cell_type": "code",
   "execution_count": 45,
   "metadata": {},
   "outputs": [
    {
     "data": {
      "text/plain": [
       "{'name': 'Milton', 'company': 'Acme Corporation', 'experience': 5}"
      ]
     },
     "execution_count": 45,
     "metadata": {},
     "output_type": "execute_result"
    }
   ],
   "source": [
    "from langchain_core.output_parsers import JsonOutputParser\n",
    "from langchain_core.pydantic_v1 import BaseModel, Field\n",
    "\n",
    "class Employee(BaseModel):\n",
    "    name: str = Field(description=\"Name of person\")\n",
    "    company: str = Field(description=\"Name of company\")\n",
    "    experience: int = Field(description=\"Number of years with company\")\n",
    "\n",
    "output_parser = JsonOutputParser(pydantic_object=Employee)\n",
    "\n",
    "chat_prompt_template = ChatPromptTemplate(\n",
    "    messages = [\n",
    "        SystemMessagePromptTemplate.from_template(\"Create a fictitious employee with the following name.  \\nFormatting Instructions: {format_instructions}\"),\n",
    "        HumanMessagePromptTemplate.from_template(\"Employee name: {name}\")\n",
    "])\n",
    "                                     \n",
    "\n",
    "chain = chat_prompt_template | chat_llm | output_parser\n",
    "chain.invoke({\n",
    "    \"name\": \"Milton\",\n",
    "    \"format_instructions\": output_parser.get_format_instructions()\n",
    "    })\n",
    "\n",
    "# print(type(chain.invoke({\n",
    "#     \"name\": \"Milton\",\n",
    "#     \"format_instructions\": output_parser.get_format_instructions()\n",
    "#     })\n",
    "# ))"
   ]
  }
 ],
 "metadata": {
  "kernelspec": {
   "display_name": "myenv",
   "language": "python",
   "name": "python3"
  },
  "language_info": {
   "codemirror_mode": {
    "name": "ipython",
    "version": 3
   },
   "file_extension": ".py",
   "mimetype": "text/x-python",
   "name": "python",
   "nbconvert_exporter": "python",
   "pygments_lexer": "ipython3",
   "version": "3.12.1"
  }
 },
 "nbformat": 4,
 "nbformat_minor": 2
}
