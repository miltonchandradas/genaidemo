{
 "cells": [
  {
   "cell_type": "markdown",
   "metadata": {},
   "source": [
    "# Gen AI Demo\n",
    "\n",
    "__Import OpenAI key__"
   ]
  },
  {
   "cell_type": "code",
   "execution_count": null,
   "metadata": {},
   "outputs": [],
   "source": [
    "from secret_key import openai_api_key"
   ]
  },
  {
   "cell_type": "markdown",
   "metadata": {},
   "source": [
    "__Import OpenAI, ChatOpenAI, PromptTemplate, ChatPromptTemplate__"
   ]
  },
  {
   "cell_type": "code",
   "execution_count": null,
   "metadata": {},
   "outputs": [],
   "source": [
    "%pip install -qU langchain-openai\n",
    "%pip install -qU langchain-core\n",
    "%pip install -qU langchain\n",
    "%pip install -qU langchain-community"
   ]
  },
  {
   "cell_type": "code",
   "execution_count": null,
   "metadata": {},
   "outputs": [],
   "source": [
    "from langchain_openai import OpenAI, ChatOpenAI\n",
    "from langchain_core.prompts import PromptTemplate, ChatPromptTemplate, HumanMessagePromptTemplate, SystemMessagePromptTemplate\n",
    "from langchain_core.messages import HumanMessage, SystemMessage"
   ]
  },
  {
   "cell_type": "markdown",
   "metadata": {},
   "source": [
    "__Use LangChain OpenAI, LangChain ChatOpenAI__"
   ]
  },
  {
   "cell_type": "code",
   "execution_count": null,
   "metadata": {},
   "outputs": [],
   "source": [
    "llm = OpenAI(model=\"gpt-3.5-turbo-instruct\", openai_api_key=openai_api_key, temperature=0.7)\n",
    "llm.invoke(\"How far is the moon away from earth in miles ?\")"
   ]
  },
  {
   "cell_type": "code",
   "execution_count": null,
   "metadata": {},
   "outputs": [],
   "source": [
    "chat_llm = ChatOpenAI(model=\"gpt-3.5-turbo\", openai_api_key=openai_api_key, temperature=0.7)\n",
    "chat_prompt_template = ChatPromptTemplate(\n",
    "    messages = [\n",
    "        SystemMessagePromptTemplate.from_template(\"You are an expert in Python programming language\"),\n",
    "        HumanMessagePromptTemplate.from_template(\"Tell me about scikit learn in 2 sentences\")\n",
    "])\n",
    "                                     \n",
    "chain = chat_prompt_template | chat_llm\n",
    "\n",
    "chain.invoke({})"
   ]
  },
  {
   "cell_type": "markdown",
   "metadata": {},
   "source": [
    "__ChatPromptTemplate with dynamic values__"
   ]
  },
  {
   "cell_type": "code",
   "execution_count": null,
   "metadata": {},
   "outputs": [],
   "source": [
    "chat_prompt_template = ChatPromptTemplate(\n",
    "    messages = [\n",
    "        SystemMessagePromptTemplate.from_template(\"You are an expert in {main_topic}\"),\n",
    "        HumanMessagePromptTemplate.from_template(\"Tell me about {sub_topic} in 2 sentences\")\n",
    "])\n",
    "                                     \n",
    "chain = chat_prompt_template | chat_llm\n",
    "\n",
    "chain.invoke({\"main_topic\": \"Node.js\", \"sub_topic\": \"closures\"})"
   ]
  },
  {
   "cell_type": "code",
   "execution_count": null,
   "metadata": {},
   "outputs": [],
   "source": [
    "chain.invoke({\"main_topic\": \"SAP Integration Suite\", \"sub_topic\": \"OData Adapter\"})"
   ]
  },
  {
   "cell_type": "markdown",
   "metadata": {},
   "source": [
    "__Output Parsers - Format the output for APIs__"
   ]
  },
  {
   "cell_type": "code",
   "execution_count": null,
   "metadata": {},
   "outputs": [],
   "source": [
    "from langchain_core.output_parsers import StrOutputParser\n",
    "\n",
    "output_parser = StrOutputParser()\n",
    "\n",
    "chain = chat_prompt_template | chat_llm | output_parser\n",
    "chain.invoke({\"main_topic\": \"Node.js\", \"sub_topic\": \"closures\"})"
   ]
  },
  {
   "cell_type": "code",
   "execution_count": null,
   "metadata": {},
   "outputs": [],
   "source": [
    "from langchain_core.output_parsers import CommaSeparatedListOutputParser\n",
    "\n",
    "output_parser = CommaSeparatedListOutputParser()\n",
    "\n",
    "chat_prompt_template = ChatPromptTemplate(\n",
    "    messages = [\n",
    "        SystemMessagePromptTemplate.from_template(\"You have extensive knowledge about all the countries in the world\"),\n",
    "        HumanMessagePromptTemplate.from_template(\"Name 5 big cities in the following country: {country}\")\n",
    "])\n",
    "                                     \n",
    "\n",
    "chain = chat_prompt_template | chat_llm | output_parser\n",
    "chain.invoke({\"country\": \"Sweden\"})\n",
    "\n",
    "# print(type(chain.invoke({\"country\": \"Sweden\"})))"
   ]
  },
  {
   "cell_type": "code",
   "execution_count": null,
   "metadata": {},
   "outputs": [],
   "source": [
    "from langchain_core.output_parsers import JsonOutputParser\n",
    "from langchain_core.pydantic_v1 import BaseModel, Field\n",
    "\n",
    "class Employee(BaseModel):\n",
    "    name: str = Field(description=\"Name of person\")\n",
    "    company: str = Field(description=\"Name of company\")\n",
    "    experience: int = Field(description=\"Number of years with company\")\n",
    "\n",
    "output_parser = JsonOutputParser(pydantic_object=Employee)\n",
    "\n",
    "chat_prompt_template = ChatPromptTemplate(\n",
    "    messages = [\n",
    "        SystemMessagePromptTemplate.from_template(\"Create a fictitious employee with the following name.  \\nFormatting Instructions: {format_instructions}\"),\n",
    "        HumanMessagePromptTemplate.from_template(\"Employee name: {name}\")\n",
    "])\n",
    "                                     \n",
    "\n",
    "chain = chat_prompt_template | chat_llm | output_parser\n",
    "chain.invoke({\n",
    "    \"name\": \"Milton\",\n",
    "    \"format_instructions\": output_parser.get_format_instructions()\n",
    "    })\n",
    "\n",
    "# print(type(chain.invoke({\n",
    "#     \"name\": \"Milton\",\n",
    "#     \"format_instructions\": output_parser.get_format_instructions()\n",
    "#     })\n",
    "# ))"
   ]
  },
  {
   "cell_type": "markdown",
   "metadata": {},
   "source": [
    "__Summarization Techniques: Stuff Chain, Map Reduce, Refine__"
   ]
  },
  {
   "cell_type": "code",
   "execution_count": null,
   "metadata": {},
   "outputs": [],
   "source": [
    "from langchain.text_splitter import RecursiveCharacterTextSplitter\n",
    "from langchain.chains.summarize import load_summarize_chain\n",
    "from langchain.chains import create_retrieval_chain\n",
    "\n",
    "from langchain.document_loaders import TextLoader\n",
    "my_character = TextLoader('my_character.txt').load()"
   ]
  },
  {
   "cell_type": "code",
   "execution_count": null,
   "metadata": {},
   "outputs": [],
   "source": [
    "summarize_chain = load_summarize_chain(llm=chat_llm, chain_type=\"stuff\")\n",
    "summary = summarize_chain.invoke(my_character)\n",
    "\n",
    "print(summary[\"output_text\"])"
   ]
  },
  {
   "cell_type": "code",
   "execution_count": null,
   "metadata": {},
   "outputs": [],
   "source": [
    "map_template_string = \"\"\"\n",
    "Write a concise summary of the following text delimited by 3 backticks.\n",
    "\n",
    "text: ```{text}```\n",
    "       \n",
    "SUMMARY:\n",
    "\"\"\"\n",
    "\n",
    "map_prompt_template = PromptTemplate(template=map_template_string, input_variables=[\"text\"])\n",
    "\n",
    "\n",
    "combine_template_string = \"\"\"\n",
    "Provide a final concise summary of the following text delimited by 3 backticks.\n",
    "       \n",
    "text: ```{text}```\n",
    "\"\"\"\n",
    "combine_prompt_template = PromptTemplate(template=combine_template_string, input_variables=['text'])\n",
    "\n",
    "summarize_chain = load_summarize_chain(llm=chat_llm, chain_type=\"map_reduce\", map_prompt=map_prompt_template, combine_prompt=combine_prompt_template)\n",
    "\n",
    "text_splitter = RecursiveCharacterTextSplitter(chunk_size=2000, chunk_overlap=0)\n",
    "\n",
    "documents = text_splitter.split_documents(my_character)\n",
    "\n",
    "# print(type(documents[0]))\n",
    "\n",
    "summary = summarize_chain.invoke(documents)\n",
    "print(summary[\"output_text\"])\n"
   ]
  },
  {
   "cell_type": "code",
   "execution_count": null,
   "metadata": {},
   "outputs": [],
   "source": [
    "summarize_chain = load_summarize_chain(llm=chat_llm, chain_type=\"refine\")\n",
    "\n",
    "text_splitter = RecursiveCharacterTextSplitter(chunk_size=2000, chunk_overlap=0)\n",
    "\n",
    "documents = text_splitter.split_documents(my_character)\n",
    "\n",
    "# print(type(documents[0]))\n",
    "\n",
    "summary = summarize_chain.invoke(documents)\n",
    "print(summary[\"output_text\"])\n"
   ]
  }
 ],
 "metadata": {
  "kernelspec": {
   "display_name": "myenv",
   "language": "python",
   "name": "python3"
  },
  "language_info": {
   "codemirror_mode": {
    "name": "ipython",
    "version": 3
   },
   "file_extension": ".py",
   "mimetype": "text/x-python",
   "name": "python",
   "nbconvert_exporter": "python",
   "pygments_lexer": "ipython3",
   "version": "3.12.1"
  }
 },
 "nbformat": 4,
 "nbformat_minor": 2
}
